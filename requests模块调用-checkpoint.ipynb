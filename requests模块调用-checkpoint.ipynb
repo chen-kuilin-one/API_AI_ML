{
 "cells": [
  {
   "cell_type": "code",
   "execution_count": 8,
   "metadata": {},
   "outputs": [
    {
     "data": {
      "text/plain": [
       "{'request_id': '1647312893,2ae42e6d-ecbf-4756-b1ef-fac629b54665',\n",
       " 'time_used': 371,\n",
       " 'faces': [{'face_token': 'a1c316747511bcff14e6d6d2081423a0',\n",
       "   'face_rectangle': {'top': 338, 'left': 142, 'width': 496, 'height': 496}}],\n",
       " 'image_id': 'PqqlcFK4HC1ED1mjK+11yg==',\n",
       " 'face_num': 1}"
      ]
     },
     "execution_count": 8,
     "metadata": {},
     "output_type": "execute_result"
    }
   ],
   "source": [
    "# 1. 导入需要的requests模块\n",
    "import requests\n",
    "\n",
    "# 2. 输入我们需要API网站注册的API_Key\n",
    "API_Key = \"fb6HQ8SOQ5aNPEST98Wz7pptYgVX70FW\"\n",
    "API_secret = \"FxJTodF7dh_fqDpccBsO2SX1WF4UP8rd\"\n",
    "\n",
    "# 3. 准备API测试接口的url\n",
    "face_detect = \"https://api-cn.faceplusplus.com/facepp/v3/detect\"\n",
    "\n",
    "# 4. 调用方法\n",
    "\n",
    "# 5. 准备url传递参数\n",
    "payload = {\n",
    "    \"api_key\":API_Key,\n",
    "    \"api_secret\":API_secret,\n",
    "    \"image_url\":\"https://img.alicdn.com/tfs/TB1A7Kwzq61gK0jSZFlXXXDKFXa-764-1146.png\"\n",
    "}\n",
    "\n",
    "# 6. 发起请求\n",
    "r = requests.post(url=face_detect,params=payload)\n",
    "r\n",
    "r.json()"
   ]
  },
  {
   "cell_type": "code",
   "execution_count": null,
   "metadata": {},
   "outputs": [],
   "source": []
  },
  {
   "cell_type": "code",
   "execution_count": null,
   "metadata": {},
   "outputs": [],
   "source": []
  }
 ],
 "metadata": {
  "kernelspec": {
   "display_name": "Python 3",
   "language": "python",
   "name": "python3"
  },
  "language_info": {
   "codemirror_mode": {
    "name": "ipython",
    "version": 3
   },
   "file_extension": ".py",
   "mimetype": "text/x-python",
   "name": "python",
   "nbconvert_exporter": "python",
   "pygments_lexer": "ipython3",
   "version": "3.8.3"
  }
 },
 "nbformat": 4,
 "nbformat_minor": 4
}
